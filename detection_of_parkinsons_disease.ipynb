{
  "nbformat": 4,
  "nbformat_minor": 0,
  "metadata": {
    "colab": {
      "private_outputs": true,
      "provenance": []
    },
    "kernelspec": {
      "name": "python3",
      "display_name": "Python 3"
    },
    "language_info": {
      "name": "python"
    }
  },
  "cells": [
    {
      "cell_type": "markdown",
      "source": [
        "# **import Lib**"
      ],
      "metadata": {
        "id": "MGRK2Yv7V8aY"
      }
    },
    {
      "cell_type": "code",
      "execution_count": null,
      "metadata": {
        "id": "jcVWY5NkU9h3"
      },
      "outputs": [],
      "source": [
        "import numpy as np\n",
        "import pandas as pd\n",
        "from sklearn.model_selection import train_test_split"
      ]
    },
    {
      "cell_type": "markdown",
      "source": [
        "# **Load dataset**"
      ],
      "metadata": {
        "id": "cVB2Q7pJWDH9"
      }
    },
    {
      "cell_type": "code",
      "source": [
        "df = pd.read_csv('parkinsons.data')"
      ],
      "metadata": {
        "id": "XRdSBPxGVW1R"
      },
      "execution_count": null,
      "outputs": []
    },
    {
      "cell_type": "code",
      "source": [
        "df.head()"
      ],
      "metadata": {
        "id": "AthC-cx9Vhou"
      },
      "execution_count": null,
      "outputs": []
    },
    {
      "cell_type": "code",
      "source": [
        "df.tail()"
      ],
      "metadata": {
        "id": "5CuDRFWXVgHr"
      },
      "execution_count": null,
      "outputs": []
    },
    {
      "cell_type": "markdown",
      "source": [
        "# **Data cleaning**"
      ],
      "metadata": {
        "id": "Cf5U1iVZWMhC"
      }
    },
    {
      "cell_type": "code",
      "source": [
        "df.describe()"
      ],
      "metadata": {
        "id": "KnT82SiHVptr"
      },
      "execution_count": null,
      "outputs": []
    },
    {
      "cell_type": "code",
      "source": [
        "df.info()"
      ],
      "metadata": {
        "id": "jhz4Kw7UVq0U"
      },
      "execution_count": null,
      "outputs": []
    },
    {
      "cell_type": "code",
      "source": [
        "df.isna().sum()"
      ],
      "metadata": {
        "id": "Sd6PpmDdVtTI"
      },
      "execution_count": null,
      "outputs": []
    },
    {
      "cell_type": "code",
      "source": [
        "df.shape"
      ],
      "metadata": {
        "id": "NT_lbwpEV0UK"
      },
      "execution_count": null,
      "outputs": []
    },
    {
      "cell_type": "markdown",
      "source": [
        "# **Feature Enginiearing**"
      ],
      "metadata": {
        "id": "sWbyt4uEYqpx"
      }
    },
    {
      "cell_type": "code",
      "source": [
        "#  get the all features except \"status\"\n",
        "\n",
        "features = df.loc[:, df.columns != 'status'].values[:, 1:] # values use for array format\n",
        "# get status values in array format\n",
        "\n",
        "labels = df.loc[:, 'status'].values"
      ],
      "metadata": {
        "id": "pXWEjkd6W8a8"
      },
      "execution_count": null,
      "outputs": []
    },
    {
      "cell_type": "code",
      "source": [
        "# to know how many values for 1 and how many for 0 labeled status\n",
        "df['status'].value_counts()"
      ],
      "metadata": {
        "id": "BhX8VJVmXBKu"
      },
      "execution_count": null,
      "outputs": []
    },
    {
      "cell_type": "code",
      "source": [
        "#  import MinMaxScaler class from sklearn.preprocessing\n",
        "from sklearn.preprocessing import MinMaxScaler\n",
        "#  Initialize MinMax Scaler classs for -1 to 1\n",
        "\n",
        "scaler = MinMaxScaler((-1, 1))\n",
        "X = scaler.fit_transform(features)\n",
        "y = labels"
      ],
      "metadata": {
        "id": "QGhJAuMTXGG8"
      },
      "execution_count": null,
      "outputs": []
    },
    {
      "cell_type": "code",
      "source": [
        "# split the dataset into training and testing\n",
        "\n",
        "x_train, x_test, y_train, y_test=train_test_split(X, y, test_size=0.15)"
      ],
      "metadata": {
        "id": "QHlao93jXujx"
      },
      "execution_count": null,
      "outputs": []
    },
    {
      "cell_type": "markdown",
      "source": [
        "# **Model Training**"
      ],
      "metadata": {
        "id": "7X0xS6n9YyI1"
      }
    },
    {
      "cell_type": "code",
      "source": [
        "# Load an XGBClassifier and train the model\n",
        "from xgboost import XGBClassifier\n",
        "from sklearn.metrics import accuracy_score"
      ],
      "metadata": {
        "id": "QwRFv7jUX9PO"
      },
      "execution_count": null,
      "outputs": []
    },
    {
      "cell_type": "code",
      "source": [
        "# make a instance and fitting the model\n",
        "\n",
        "model = XGBClassifier()\n",
        "model.fit(x_train, y_train)"
      ],
      "metadata": {
        "id": "RimklGyAYLPA"
      },
      "execution_count": null,
      "outputs": []
    },
    {
      "cell_type": "markdown",
      "source": [
        "# **Model Prediction**"
      ],
      "metadata": {
        "id": "8RZzSeQZY83T"
      }
    },
    {
      "cell_type": "code",
      "source": [
        "#  Finnaly pridict the model\n",
        "y_prediction = model.predict(x_test)\n",
        "print(\"Accuracy Score is\", accuracy_score(y_test, y_prediction) * 100)"
      ],
      "metadata": {
        "id": "W_Un9Pc0YQbr"
      },
      "execution_count": null,
      "outputs": []
    }
  ]
}